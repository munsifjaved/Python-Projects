{
 "cells": [
  {
   "cell_type": "code",
   "execution_count": null,
   "metadata": {},
   "outputs": [],
   "source": [
    "# Initial balance for the user (can be any currency for this exmaple: PKR)\n",
    "balance = 100000.00  # Starting balance for the user\n",
    "\n",
    "while True:\n",
    "    # Display the ATM menu\n",
    "    print(\"\\nWelcome to the ATM\")\n",
    "    print(\"1. Check Balance\")\n",
    "    print(\"2. Deposit Money\")\n",
    "    print(\"3. Withdraw Money\")\n",
    "    print(\"4. Exit\")\n",
    "\n",
    "    # Prompt user to select an option\n",
    "    choice = input(\"Please select an option (1-4): \")\n",
    "\n",
    "    if choice == '1':\n",
    "        # Check Balance\n",
    "        print(f\"\\nYour current balance is: PKR {balance:.2f}\")\n",
    "\n",
    "    elif choice == '2':\n",
    "        # Deposit Money\n",
    "        deposit_amount = float(input(\"\\nEnter the amount to deposit: PKR \"))\n",
    "        if deposit_amount > 0:\n",
    "            balance += deposit_amount  # Add the deposit amount to the balance\n",
    "            print(f\"PKR {deposit_amount:.2f} has been deposited.\")\n",
    "            print(f\"Your new balance is: PKR {balance:.2f}\")\n",
    "        else:\n",
    "            print(\"Invalid amount. Please enter a positive number.\")  # Handle invalid deposit amount\n",
    "\n",
    "    elif choice == '3':\n",
    "        # Withdraw Money\n",
    "        withdraw_amount = float(input(\"\\nEnter the amount to withdraw: PKR \"))\n",
    "        if withdraw_amount > 0:\n",
    "            if withdraw_amount <= balance:\n",
    "                balance -= withdraw_amount  # Subtract the withdrawal amount from the balance\n",
    "                print(f\"PKR {withdraw_amount:.2f} has been withdrawn.\")\n",
    "                print(f\"Your new balance is: PKR {balance:.2f}\")\n",
    "            else:\n",
    "                print(\"Insufficient funds. Please try a lower amount.\")  # Handle insufficient funds\n",
    "        else:\n",
    "            print(\"Invalid amount. Please enter a positive number.\")  # Handle invalid withdrawal amount\n",
    "\n",
    "    elif choice == '4':\n",
    "        # Exit\n",
    "        print(\"\\nThank you for using the ATM. Goodbye!\")\n",
    "        break  # Exit the loop and end the program\n",
    "\n",
    "    else:\n",
    "        print(\"\\nInvalid option. Please select a number between 1 and 4.\")  # Handle invalid menu option\n"
   ]
  }
 ],
 "metadata": {
  "language_info": {
   "name": "python"
  }
 },
 "nbformat": 4,
 "nbformat_minor": 2
}
