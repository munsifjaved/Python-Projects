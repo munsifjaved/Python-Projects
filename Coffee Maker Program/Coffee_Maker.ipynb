{
  "nbformat": 4,
  "nbformat_minor": 0,
  "metadata": {
    "colab": {
      "provenance": []
    },
    "kernelspec": {
      "name": "python3",
      "display_name": "Python 3"
    },
    "language_info": {
      "name": "python"
    }
  },
  "cells": [
    {
      "cell_type": "code",
      "execution_count": 1,
      "metadata": {
        "colab": {
          "base_uri": "https://localhost:8080/"
        },
        "id": "4tbsXSt6fc1c",
        "outputId": "cbd509c1-41b4-49c4-fbc6-678a3db13952"
      },
      "outputs": [
        {
          "name": "stdout",
          "output_type": "stream",
          "text": [
            "What would you like? (espresso/latte/cappuccino): latte\n",
            "Enter the number of quarters: 50\n",
            "Enter the number of dimes: 20\n",
            "Enter the number of nickels: 10\n",
            "Enter the number of cents: 5\n",
            "Here is $12.55 dollars in change\n",
            "Here is your latte. Enjoy!\n",
            "What would you like? (espresso/latte/cappuccino): report\n",
            "Water: 100ml\n",
            "Milk: 50ml\n",
            "Coffee: 76g\n",
            "Money: $2.5\n",
            "What would you like? (espresso/latte/cappuccino): off\n"
          ]
        }
      ],
      "source": [
        "Menu = {\n",
        "    # Defining coffee types and its ingredients amounts (can be anything since only latte's ingredients and cost was mentioned. You can alter it to anything)\n",
        "\n",
        "    'espresso': {  # Defining espresso with its ingredients and cost\n",
        "        'Ingredients': {\n",
        "            'Coffee': 10,\n",
        "            'Water': 40\n",
        "        },\n",
        "        'Cost': 2.25\n",
        "    },\n",
        "    'latte': {  # Defining latte with its ingredients and cost\n",
        "        'Ingredients': {\n",
        "            'Coffee': 24,\n",
        "            'Water': 200,\n",
        "            'Milk': 150\n",
        "        },\n",
        "        'Cost': 2.50  # Cost of latte is $2.50\n",
        "    },\n",
        "    'cappuccino': {  # Defining cappuccino with its ingredients and cost\n",
        "        'Ingredients': {\n",
        "            'Coffee': 15,\n",
        "            'Water': 150,\n",
        "            'Milk': 150\n",
        "        },\n",
        "        'Cost': 3.00\n",
        "    }\n",
        "}\n",
        "\n",
        "profit = 0  # Initial profit set to 0\n",
        "Resource = {  # Initial resources available\n",
        "    'Coffee': 100,  # 100g of coffee available\n",
        "    'Water': 300,  # 300ml of water available\n",
        "    'Milk': 200,  # 200ml of milk available\n",
        "    'Money': 0  # Money starts at $0\n",
        "}\n",
        "\n",
        "is_on = True  # Flag to keep the machine running\n",
        "while is_on:  # Start of the loop that runs until 'off' is selected\n",
        "    choice = input(\"What would you like? (espresso/latte/cappuccino): \").lower()\n",
        "    if choice == 'off':  # If user inputs 'off', stop the machine\n",
        "        is_on = False\n",
        "    elif choice == 'report':  # If user inputs 'report', print the current resource status\n",
        "        print(f\"Water: {Resource['Water']}ml\")\n",
        "        print(f\"Milk: {Resource['Milk']}ml\")\n",
        "        print(f\"Coffee: {Resource['Coffee']}g\")\n",
        "        print(f\"Money: ${Resource['Money']}\")\n",
        "\n",
        "    elif choice in Menu:  # If user selects a valid drink option\n",
        "        # Check if there are enough resources\n",
        "        for ingredient, amount in Menu[choice]['Ingredients'].items():\n",
        "            if amount > Resource.get(ingredient, 0):  # Check if there are enough ingredients\n",
        "                print(f\"Sorry, there is not enough {ingredient}.\")\n",
        "                break  # Exit loop if resources are insufficient\n",
        "        else:\n",
        "            # Process the payment\n",
        "            quarter = int(input('Enter the number of quarters: ')) * 0.25  # Convert quarters to dollars\n",
        "            dime = int(input('Enter the number of dimes: ')) * 0.10  # Convert dimes to dollars\n",
        "            nickel = int(input('Enter the number of nickels: ')) * 0.05  # Convert nickels to dollars\n",
        "            cent = int(input('Enter the number of cents: ')) * 0.01  # Convert cents to dollars\n",
        "            total_money = quarter + dime + nickel + cent  # Total amount entered by the user\n",
        "\n",
        "            if total_money < Menu[choice]['Cost']:  # If the money is insufficient\n",
        "                print(\"Sorry, that's not enough money. Money refunded.\")\n",
        "            else:\n",
        "                profit += Menu[choice]['Cost']  # Add the cost of the drink to the profit\n",
        "                Resource['Money'] = profit  # Update the money resource\n",
        "                change = round(total_money - Menu[choice]['Cost'], 2)  # Calculate and round change\n",
        "                print(f'Here is ${change} dollars in change')\n",
        "\n",
        "                # Deduct the ingredients\n",
        "                for ingredient, amount in Menu[choice]['Ingredients'].items():\n",
        "                    Resource[ingredient] -= amount  # Deduct used ingredients from resources\n",
        "\n",
        "                print(f\"Here is your {choice}. Enjoy!\")  # Confirm the drink is ready\n",
        "\n",
        "    else:\n",
        "        print('Invalid choice. Please select espresso, latte, or cappuccino.')  # Error message for invalid input\n"
      ]
    }
  ]
}